{
 "cells": [
  {
   "cell_type": "markdown",
   "id": "dd7a03c6",
   "metadata": {},
   "source": [
    "# Projeto final - TERA\n",
    "\n",
    "Esse notebook contém o projeto final do grupo de Macroeconomia do curso de Data Science e Machine Learning da TERA. "
   ]
  },
  {
   "cell_type": "markdown",
   "id": "0b9dd29b",
   "metadata": {},
   "source": [
    "### O presente notebook é organizado de seguinte modo: \n",
    "\n",
    "1. <a href='#number_1'> Definição do problema </a>\n",
    "2. <a href='#number_2'> Base de dados </a>\n",
    "3. <a href='#number_3'> Processamento de Dados </a>\n",
    "4. <a href='#number_4'> Analise de Dados exploratória (EDA) - Análise Univariada </a>\n",
    "5. <a href='#number_5'> Analise de Dados exploratória (EDA) - Análise Bivariada </a>\n",
    "6. <a href='#number_6'> Teste de hipótese estatística </a>\n",
    "7. <a href='#number_7'> Aspectos da Análise </a>"
   ]
  },
  {
   "cell_type": "markdown",
   "id": "08b2a3ae",
   "metadata": {},
   "source": [
    "<a id='number_1'></a>\n",
    "### 1. Definição do problema\n",
    "\n",
    "Este projeto visa a utilização de indicadores macroeconomicos para prever tendências do mercado financeiro. A tendencia será demonstrada a partir da precificação de ações. Serão efetuadas analises para elucidar as variaveis economicas que mais indicam esse comportamento e tem maior peso neste fator.\n",
    "\n",
    "Neste projeto, utilizou-se dados coletados dos seguintes websites:\n",
    "\n",
    "https://www.gov.br/produtividade-e-comercio-exterior/pt-br\n",
    "\n",
    "\n",
    "https://www.ipea.gov.br/portal/\n",
    "\n",
    "\n",
    "https://www.bcb.gov.br/\n"
   ]
  },
  {
   "cell_type": "markdown",
   "id": "e7078309",
   "metadata": {},
   "source": [
    "### 2. Base de dados\n",
    "<a id='number_2'></a>"
   ]
  },
  {
   "cell_type": "code",
   "execution_count": 4,
   "id": "b62e58a6",
   "metadata": {},
   "outputs": [],
   "source": [
    "# importing the libraries\n",
    "import pandas as pd\n",
    "import numpy as np"
   ]
  },
  {
   "cell_type": "code",
   "execution_count": 5,
   "id": "787690b1",
   "metadata": {},
   "outputs": [],
   "source": [
    "# Importing the data\n"
   ]
  },
  {
   "cell_type": "code",
   "execution_count": null,
   "id": "b2c7a3e0",
   "metadata": {},
   "outputs": [],
   "source": []
  }
 ],
 "metadata": {
  "kernelspec": {
   "display_name": "Python 3 (ipykernel)",
   "language": "python",
   "name": "python3"
  },
  "language_info": {
   "codemirror_mode": {
    "name": "ipython",
    "version": 3
   },
   "file_extension": ".py",
   "mimetype": "text/x-python",
   "name": "python",
   "nbconvert_exporter": "python",
   "pygments_lexer": "ipython3",
   "version": "3.10.5"
  }
 },
 "nbformat": 4,
 "nbformat_minor": 5
}
